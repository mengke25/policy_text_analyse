{
 "cells": [
  {
   "cell_type": "code",
   "execution_count": 1,
   "id": "1f1edd18",
   "metadata": {},
   "outputs": [
    {
     "name": "stderr",
     "output_type": "stream",
     "text": [
      "Building prefix dict from the default dictionary ...\n",
      "Loading model from cache C:\\Users\\Allen\\AppData\\Local\\Temp\\jieba.cache\n",
      "Loading model cost 0.447 seconds.\n",
      "Prefix dict has been built successfully.\n"
     ]
    }
   ],
   "source": [
    "import os\n",
    "import numpy as np\n",
    "import pandas as pd\n",
    "import jieba\n",
    "import jieba.analyse\n",
    "import matplotlib.pyplot as plt\n",
    "import wordcloud\n",
    "\n",
    "path = \"D:\\PycharmProjects\\policy_try\\source_policy\" #文件夹目录\n",
    "files= os.listdir(path) #得到文件夹下的所有文件名称\n",
    "txts = []\n",
    "num = len(files)    #查看政策数量\n",
    "\n",
    "jieba.load_userdict('data\\custom.txt')\n",
    "\n",
    "stopword=[]\n",
    "with open('data\\stopword.txt','r',encoding='utf-8') as f :\n",
    "    for line in f.readlines():\n",
    "        l = line.strip()\n",
    "        if l == '\\\\n':  #换行符\n",
    "            l = '\\n'\n",
    "        if l == '\\\\u3000' : #制表符\n",
    "            l = '\\u3000'\n",
    "        stopword.append(l)\n",
    "\n",
    "\n",
    "\n",
    "for i in range(0,num):\n",
    "    with open('source_policy/'+str(files[i]), \"r\",encoding='utf-8') as f:    #打开文件\n",
    "        a = f.read()   #读取文件\n",
    "        cut = jieba.lcut(a)\n",
    "        x = np.array(cut)    #将分好的此列表转为数组\n",
    "        y = np.array(stopword)   #将停用词转为数组\n",
    "        z = x[~np.in1d(x,y)]\n",
    "        k = [i for i in z if len(i)>1 ]\n",
    "        result = pd.DataFrame(k).groupby(0).size().sort_values(ascending=False) [:200]\n",
    "        result.to_csv('output/'+str(files[i])+'.csv',header=False,encoding='GBK')\n"
   ]
  },
  {
   "cell_type": "code",
   "execution_count": 2,
   "id": "e272d099",
   "metadata": {},
   "outputs": [],
   "source": [
    "import os\n",
    "list = []\n",
    "dir = \"D:\\PycharmProjects\\policy_try\\output\"\n",
    "for root, dir, file in os.walk(dir):\n",
    "    for b in file:\n",
    "        #print(b) # 只是打印文件名\n",
    "        list.append(b)"
   ]
  },
  {
   "cell_type": "code",
   "execution_count": 3,
   "id": "854502c4",
   "metadata": {},
   "outputs": [],
   "source": [
    "result = pd.DataFrame(list)\n",
    "result.to_csv('tmp/list.csv',header=False,encoding='GBK')"
   ]
  },
  {
   "cell_type": "code",
   "execution_count": 4,
   "id": "e52bc569",
   "metadata": {},
   "outputs": [],
   "source": [
    "def rename():\n",
    "    i = 0\n",
    "    path = r\"D:\\PycharmProjects\\policy_try\\output\"\n",
    "    files = os.listdir(path)  # 得到文件夹下的所有文件名称\n",
    "    num = len(files)  # 查看政策数量\n",
    "\n",
    "    filelist = os.listdir(path)   #该文件夹下所有的文件（包括文件夹）\n",
    "    for files in filelist:   #遍历所有文件\n",
    "        i = i + 1\n",
    "        Olddir = os.path.join(path, files)    #原来的文件路径\n",
    "        if os.path.isdir(Olddir):       #如果是文件夹则跳过\n",
    "                continue\n",
    "        filename = 'policy'     #文件名\n",
    "        filetype = '.csv'        #文件扩展名\n",
    "        Newdir = os.path.join(path, filename + str(i) + filetype)   #新的文件路径\n",
    "        os.rename(Olddir, Newdir)    #重命名\n",
    "    return True\n",
    "\n",
    "if __name__ == '__main__':\n",
    "    rename()"
   ]
  }
 ],
 "metadata": {
  "kernelspec": {
   "display_name": "Python 3 (ipykernel)",
   "language": "python",
   "name": "python3"
  },
  "language_info": {
   "codemirror_mode": {
    "name": "ipython",
    "version": 3
   },
   "file_extension": ".py",
   "mimetype": "text/x-python",
   "name": "python",
   "nbconvert_exporter": "python",
   "pygments_lexer": "ipython3",
   "version": "3.9.13"
  }
 },
 "nbformat": 4,
 "nbformat_minor": 5
}
